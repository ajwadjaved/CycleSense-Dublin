{
 "cells": [
  {
   "cell_type": "markdown",
   "id": "9012443d-0057-4647-b745-ceac33cd14bb",
   "metadata": {},
   "source": []
  },
  {
   "cell_type": "code",
   "execution_count": 10,
   "id": "8eb9a44d-daf2-469d-b3ca-6aa45a54236d",
   "metadata": {},
   "outputs": [],
   "source": [
    "# Library Imports.\n",
    "import pandas as pd\n",
    "import matplotlib.pyplot as plt\n",
    "import numpy as np\n",
    "\n",
    "# Allows plots to appear directly in the notebook.\n",
    "%matplotlib inline\n",
    "\n",
    "from patsy import dmatrices\n",
    "from sklearn.linear_model import LinearRegression\n",
    "from sklearn.model_selection import train_test_split\n",
    "from sklearn import metrics\n",
    "from sklearn.model_selection import cross_validate\n",
    "from sklearn.model_selection import cross_val_score "
   ]
  },
  {
   "cell_type": "code",
   "execution_count": null,
   "id": "a628411d-bd18-4823-acb9-ccf227cc497f",
   "metadata": {},
   "outputs": [],
   "source": [
    "df = pd.read_csv(\"bike_data.csv\")\n",
    "df.head()"
   ]
  },
  {
   "cell_type": "code",
   "execution_count": null,
   "id": "bb7c3de8-3d2a-444d-b62a-a2edd24049e6",
   "metadata": {},
   "outputs": [],
   "source": [
    "# Print the average RentalPrice in our dataset.\n",
    "# We could use this as a very simple baseline prediction model.\n",
    "# A better prediction model should at least improve on this baseline model.\n",
    "df.RentalPrice.mean()"
   ]
  },
  {
   "cell_type": "code",
   "execution_count": null,
   "id": "d690e1f3-a9ec-435f-bf5d-b7afa9453a9b",
   "metadata": {},
   "outputs": [],
   "source": [
    "df.dtypes"
   ]
  },
  {
   "cell_type": "code",
   "execution_count": null,
   "id": "3187d1be-4c94-4a35-ba72-7df5d67c54e6",
   "metadata": {},
   "outputs": [],
   "source": []
  },
  {
   "cell_type": "code",
   "execution_count": null,
   "id": "8f0fb614-2cfb-43d5-9a49-2ba1efd5e510",
   "metadata": {},
   "outputs": [],
   "source": []
  },
  {
   "cell_type": "code",
   "execution_count": null,
   "id": "7aa816b4-8b69-4747-8a38-0b6a82a0bbfa",
   "metadata": {},
   "outputs": [],
   "source": []
  },
  {
   "cell_type": "code",
   "execution_count": 11,
   "id": "d81a15a4-9e0d-4ba2-955a-2660e51729f7",
   "metadata": {},
   "outputs": [
    {
     "ename": "NameError",
     "evalue": "name 'get_features' is not defined",
     "output_type": "error",
     "traceback": [
      "\u001b[1;31m---------------------------------------------------------------------------\u001b[0m",
      "\u001b[1;31mNameError\u001b[0m                                 Traceback (most recent call last)",
      "Cell \u001b[1;32mIn [11], line 3\u001b[0m\n\u001b[0;32m      1\u001b[0m \u001b[38;5;66;03m# example of making a single class prediction\u001b[39;00m\n\u001b[0;32m      2\u001b[0m \u001b[38;5;28;01mfrom\u001b[39;00m \u001b[38;5;21;01msklearn\u001b[39;00m\u001b[38;5;21;01m.\u001b[39;00m\u001b[38;5;21;01mlinear_model\u001b[39;00m \u001b[38;5;28;01mimport\u001b[39;00m LogisticRegression\n\u001b[1;32m----> 3\u001b[0m X \u001b[38;5;241m=\u001b[39m \u001b[43mget_features\u001b[49m(station\u001b[38;5;241m=\u001b[39mstation_id)\n\u001b[0;32m      4\u001b[0m y \u001b[38;5;241m=\u001b[39m get_availability(station\u001b[38;5;241m=\u001b[39mstation_id)\n\u001b[0;32m      5\u001b[0m X_train, X_test, y_train, y_test \u001b[38;5;241m=\u001b[39m train_test_split(X, y)\n",
      "\u001b[1;31mNameError\u001b[0m: name 'get_features' is not defined"
     ]
    }
   ],
   "source": [
    "# example of making a single class prediction\n",
    "from sklearn.linear_model import LogisticRegression\n",
    "X = get_features(station=station_id)\n",
    "y = get_availability(station=station_id)\n",
    "X_train, X_test, y_train, y_test = train_test_split(X, y)\n",
    "\n",
    "# fit final model\n",
    "model[station_id] = LogisticRegression() # choose your own model here...\n",
    "model[station_id].fit(X_train, y_train)\n",
    "\n",
    "# evaluate...\n",
    "# define one new instance\n",
    "Xnew = [[date, time, wind, temp, ...]] # query features\n",
    "\n",
    "# make a prediction\n",
    "ynew = model[station_id].predict(Xnew)\n",
    "print(\"X=%s, Predicted=%s\" % (Xnew[0], ynew[0]))"
   ]
  },
  {
   "cell_type": "code",
   "execution_count": null,
   "id": "d74f3dab-3f8f-4429-8e37-90f1dafcb30c",
   "metadata": {},
   "outputs": [],
   "source": [
    "import pickle\n",
    "import pandas as pd\n",
    "import numpy as np\n",
    "from sklearn.linear_model import LinearRegression\n",
    "# X_train and y_train are the training data\n",
    "model = LinearRegression()\n",
    "model.fit(X_train, y_train)\n",
    "# Serialize model object into a file called model.pkl on disk using pickle\n",
    "with open('model.pkl', 'wb') as handle:\n",
    "pickle.dump(model, handle, pickle.HIGHEST_PROTOCOL)\n",
    "# pickle.HIGHEST_PROTOCOL using the highest available protocol\n",
    "# (we used wb to open file as binary and use a higher pickling protocol)\n"
   ]
  }
 ],
 "metadata": {
  "kernelspec": {
   "display_name": "Python 3 (ipykernel)",
   "language": "python",
   "name": "python3"
  },
  "language_info": {
   "codemirror_mode": {
    "name": "ipython",
    "version": 3
   },
   "file_extension": ".py",
   "mimetype": "text/x-python",
   "name": "python",
   "nbconvert_exporter": "python",
   "pygments_lexer": "ipython3",
   "version": "3.10.7"
  }
 },
 "nbformat": 4,
 "nbformat_minor": 5
}
