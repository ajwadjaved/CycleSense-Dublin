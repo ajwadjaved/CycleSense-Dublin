{
 "cells": [
  {
   "cell_type": "code",
   "execution_count": 40,
   "id": "8eb9a44d-daf2-469d-b3ca-6aa45a54236d",
   "metadata": {},
   "outputs": [],
   "source": [
    "# Library Imports.\n",
    "import pandas as pd\n",
    "import matplotlib.pyplot as plt\n",
    "import numpy as np\n",
    "import pickle\n",
    "\n",
    "# Allows plots to appear directly in the notebook.\n",
    "%matplotlib inline\n",
    "\n",
    "from sklearn.linear_model import LinearRegression\n",
    "from sklearn.linear_model import LogisticRegression\n",
    "from sklearn.model_selection import train_test_split\n",
    "from sklearn.metrics import mean_squared_error\n",
    "from sklearn import metrics\n",
    "from sklearn.model_selection import cross_validate\n",
    "from sklearn.model_selection import cross_val_score "
   ]
  },
  {
   "cell_type": "code",
   "execution_count": 41,
   "id": "a628411d-bd18-4823-acb9-ccf227cc497f",
   "metadata": {},
   "outputs": [],
   "source": [
    "df_a = pd.read_csv(\"availability.csv\") #availability\n",
    "df_w = pd.read_csv(\"historical_weather.csv\") #weather"
   ]
  },
  {
   "cell_type": "code",
   "execution_count": 42,
   "id": "bb7c3de8-3d2a-444d-b62a-a2edd24049e6",
   "metadata": {},
   "outputs": [
    {
     "data": {
      "text/plain": "NUMBER                    int64\nlast_update              object\nopen                      int64\nbike_stands               int64\navailable_bikes           int64\navailable_bike_stands     int64\ndtype: object"
     },
     "execution_count": 42,
     "metadata": {},
     "output_type": "execute_result"
    }
   ],
   "source": [
    "df_a.dtypes"
   ]
  },
  {
   "cell_type": "code",
   "execution_count": 43,
   "id": "d8be4c0b-9c7f-4e4e-9ea0-6b7285ee791a",
   "metadata": {},
   "outputs": [
    {
     "data": {
      "text/plain": "   NUMBER          last_update  open  bike_stands  available_bikes  \\\n0       1  2023-03-21 22:53:18     1           31                3   \n1       1  2023-03-21 23:13:31     1           31                3   \n2       1  2023-03-22 16:40:19     1           31               16   \n3       1  2023-03-22 16:50:24     1           31               16   \n4       1  2023-03-22 17:21:38     1           31               12   \n\n   available_bike_stands  \n0                     28  \n1                     28  \n2                     15  \n3                     15  \n4                     19  ",
      "text/html": "<div>\n<style scoped>\n    .dataframe tbody tr th:only-of-type {\n        vertical-align: middle;\n    }\n\n    .dataframe tbody tr th {\n        vertical-align: top;\n    }\n\n    .dataframe thead th {\n        text-align: right;\n    }\n</style>\n<table border=\"1\" class=\"dataframe\">\n  <thead>\n    <tr style=\"text-align: right;\">\n      <th></th>\n      <th>NUMBER</th>\n      <th>last_update</th>\n      <th>open</th>\n      <th>bike_stands</th>\n      <th>available_bikes</th>\n      <th>available_bike_stands</th>\n    </tr>\n  </thead>\n  <tbody>\n    <tr>\n      <th>0</th>\n      <td>1</td>\n      <td>2023-03-21 22:53:18</td>\n      <td>1</td>\n      <td>31</td>\n      <td>3</td>\n      <td>28</td>\n    </tr>\n    <tr>\n      <th>1</th>\n      <td>1</td>\n      <td>2023-03-21 23:13:31</td>\n      <td>1</td>\n      <td>31</td>\n      <td>3</td>\n      <td>28</td>\n    </tr>\n    <tr>\n      <th>2</th>\n      <td>1</td>\n      <td>2023-03-22 16:40:19</td>\n      <td>1</td>\n      <td>31</td>\n      <td>16</td>\n      <td>15</td>\n    </tr>\n    <tr>\n      <th>3</th>\n      <td>1</td>\n      <td>2023-03-22 16:50:24</td>\n      <td>1</td>\n      <td>31</td>\n      <td>16</td>\n      <td>15</td>\n    </tr>\n    <tr>\n      <th>4</th>\n      <td>1</td>\n      <td>2023-03-22 17:21:38</td>\n      <td>1</td>\n      <td>31</td>\n      <td>12</td>\n      <td>19</td>\n    </tr>\n  </tbody>\n</table>\n</div>"
     },
     "execution_count": 43,
     "metadata": {},
     "output_type": "execute_result"
    }
   ],
   "source": [
    "df_a.head()"
   ]
  },
  {
   "cell_type": "code",
   "execution_count": 44,
   "id": "a6550247-73f4-4d40-8dc7-68ef23673af9",
   "metadata": {},
   "outputs": [
    {
     "data": {
      "text/plain": "                       bike_stands  available_bikes  available_bike_stands\nbike_stands               1.000000         0.205633               0.517013\navailable_bikes           0.205633         1.000000              -0.711744\navailable_bike_stands     0.517013        -0.711744               1.000000",
      "text/html": "<div>\n<style scoped>\n    .dataframe tbody tr th:only-of-type {\n        vertical-align: middle;\n    }\n\n    .dataframe tbody tr th {\n        vertical-align: top;\n    }\n\n    .dataframe thead th {\n        text-align: right;\n    }\n</style>\n<table border=\"1\" class=\"dataframe\">\n  <thead>\n    <tr style=\"text-align: right;\">\n      <th></th>\n      <th>bike_stands</th>\n      <th>available_bikes</th>\n      <th>available_bike_stands</th>\n    </tr>\n  </thead>\n  <tbody>\n    <tr>\n      <th>bike_stands</th>\n      <td>1.000000</td>\n      <td>0.205633</td>\n      <td>0.517013</td>\n    </tr>\n    <tr>\n      <th>available_bikes</th>\n      <td>0.205633</td>\n      <td>1.000000</td>\n      <td>-0.711744</td>\n    </tr>\n    <tr>\n      <th>available_bike_stands</th>\n      <td>0.517013</td>\n      <td>-0.711744</td>\n      <td>1.000000</td>\n    </tr>\n  </tbody>\n</table>\n</div>"
     },
     "execution_count": 44,
     "metadata": {},
     "output_type": "execute_result"
    }
   ],
   "source": [
    "df_a[['bike_stands', 'available_bikes', 'available_bike_stands']].corr()"
   ]
  },
  {
   "cell_type": "code",
   "execution_count": 45,
   "id": "d690e1f3-a9ec-435f-bf5d-b7afa9453a9b",
   "metadata": {},
   "outputs": [
    {
     "data": {
      "text/plain": "date         object\ntime         object\nweather      object\ntemp        float64\nhumidity    float64\nspeed       float64\ndegrees       int64\ndtype: object"
     },
     "execution_count": 45,
     "metadata": {},
     "output_type": "execute_result"
    }
   ],
   "source": [
    "df_w.dtypes"
   ]
  },
  {
   "cell_type": "code",
   "execution_count": 46,
   "id": "31e377fd-bd0e-439c-bc28-0274ef1ec2b9",
   "metadata": {},
   "outputs": [
    {
     "data": {
      "text/plain": "         date      time        weather   temp  humidity   speed  degrees\n0  2023-04-09  18:38:45  moderate rain  12.61      8.75  200.00       80\n1  2023-04-09  18:55:18  broken clouds  12.40     81.00    8.75      200\n2  2023-04-10  16:20:02     light rain   9.23     72.00   12.86      290\n3  2023-04-10  16:25:01     light rain   9.16     72.00   12.86      290\n4  2023-04-10  16:30:02     light rain   9.23     72.00   12.86      290",
      "text/html": "<div>\n<style scoped>\n    .dataframe tbody tr th:only-of-type {\n        vertical-align: middle;\n    }\n\n    .dataframe tbody tr th {\n        vertical-align: top;\n    }\n\n    .dataframe thead th {\n        text-align: right;\n    }\n</style>\n<table border=\"1\" class=\"dataframe\">\n  <thead>\n    <tr style=\"text-align: right;\">\n      <th></th>\n      <th>date</th>\n      <th>time</th>\n      <th>weather</th>\n      <th>temp</th>\n      <th>humidity</th>\n      <th>speed</th>\n      <th>degrees</th>\n    </tr>\n  </thead>\n  <tbody>\n    <tr>\n      <th>0</th>\n      <td>2023-04-09</td>\n      <td>18:38:45</td>\n      <td>moderate rain</td>\n      <td>12.61</td>\n      <td>8.75</td>\n      <td>200.00</td>\n      <td>80</td>\n    </tr>\n    <tr>\n      <th>1</th>\n      <td>2023-04-09</td>\n      <td>18:55:18</td>\n      <td>broken clouds</td>\n      <td>12.40</td>\n      <td>81.00</td>\n      <td>8.75</td>\n      <td>200</td>\n    </tr>\n    <tr>\n      <th>2</th>\n      <td>2023-04-10</td>\n      <td>16:20:02</td>\n      <td>light rain</td>\n      <td>9.23</td>\n      <td>72.00</td>\n      <td>12.86</td>\n      <td>290</td>\n    </tr>\n    <tr>\n      <th>3</th>\n      <td>2023-04-10</td>\n      <td>16:25:01</td>\n      <td>light rain</td>\n      <td>9.16</td>\n      <td>72.00</td>\n      <td>12.86</td>\n      <td>290</td>\n    </tr>\n    <tr>\n      <th>4</th>\n      <td>2023-04-10</td>\n      <td>16:30:02</td>\n      <td>light rain</td>\n      <td>9.23</td>\n      <td>72.00</td>\n      <td>12.86</td>\n      <td>290</td>\n    </tr>\n  </tbody>\n</table>\n</div>"
     },
     "execution_count": 46,
     "metadata": {},
     "output_type": "execute_result"
    }
   ],
   "source": [
    "df_w.head()"
   ]
  },
  {
   "cell_type": "markdown",
   "id": "f9830c5a-6312-4385-8795-a8b05a72cd9f",
   "metadata": {},
   "source": [
    "# Changing time to Hour"
   ]
  },
  {
   "cell_type": "code",
   "execution_count": 47,
   "id": "3187d1be-4c94-4a35-ba72-7df5d67c54e6",
   "metadata": {},
   "outputs": [
    {
     "data": {
      "text/plain": "        NUMBER         last_update  open  bike_stands  available_bikes  \\\n0            1 2023-03-21 22:53:18     1           31                3   \n1            1 2023-03-21 23:13:31     1           31                3   \n2            1 2023-03-22 16:40:19     1           31               16   \n3            1 2023-03-22 16:50:24     1           31               16   \n4            1 2023-03-22 17:21:38     1           31               12   \n...        ...                 ...   ...          ...              ...   \n364071     117 2023-04-11 08:35:41     1           40                2   \n364072     117 2023-04-11 08:41:48     1           40                3   \n364073     117 2023-04-11 08:45:46     1           40                3   \n364074     117 2023-04-11 08:51:12     1           40                5   \n364075     117 2023-04-11 08:57:50     1           40                6   \n\n        available_bike_stands timehours_availability        date     bID  \n0                          28                     22  2023-03-21       1  \n1                          28                     23  2023-03-21       2  \n2                          15                     16  2023-03-22       3  \n3                          15                     16  2023-03-22       4  \n4                          19                     17  2023-03-22       5  \n...                       ...                    ...         ...     ...  \n364071                     38                     08  2023-04-11  364072  \n364072                     37                     08  2023-04-11  364073  \n364073                     37                     08  2023-04-11  364074  \n364074                     35                     08  2023-04-11  364075  \n364075                     34                     08  2023-04-11  364076  \n\n[364076 rows x 9 columns]",
      "text/html": "<div>\n<style scoped>\n    .dataframe tbody tr th:only-of-type {\n        vertical-align: middle;\n    }\n\n    .dataframe tbody tr th {\n        vertical-align: top;\n    }\n\n    .dataframe thead th {\n        text-align: right;\n    }\n</style>\n<table border=\"1\" class=\"dataframe\">\n  <thead>\n    <tr style=\"text-align: right;\">\n      <th></th>\n      <th>NUMBER</th>\n      <th>last_update</th>\n      <th>open</th>\n      <th>bike_stands</th>\n      <th>available_bikes</th>\n      <th>available_bike_stands</th>\n      <th>timehours_availability</th>\n      <th>date</th>\n      <th>bID</th>\n    </tr>\n  </thead>\n  <tbody>\n    <tr>\n      <th>0</th>\n      <td>1</td>\n      <td>2023-03-21 22:53:18</td>\n      <td>1</td>\n      <td>31</td>\n      <td>3</td>\n      <td>28</td>\n      <td>22</td>\n      <td>2023-03-21</td>\n      <td>1</td>\n    </tr>\n    <tr>\n      <th>1</th>\n      <td>1</td>\n      <td>2023-03-21 23:13:31</td>\n      <td>1</td>\n      <td>31</td>\n      <td>3</td>\n      <td>28</td>\n      <td>23</td>\n      <td>2023-03-21</td>\n      <td>2</td>\n    </tr>\n    <tr>\n      <th>2</th>\n      <td>1</td>\n      <td>2023-03-22 16:40:19</td>\n      <td>1</td>\n      <td>31</td>\n      <td>16</td>\n      <td>15</td>\n      <td>16</td>\n      <td>2023-03-22</td>\n      <td>3</td>\n    </tr>\n    <tr>\n      <th>3</th>\n      <td>1</td>\n      <td>2023-03-22 16:50:24</td>\n      <td>1</td>\n      <td>31</td>\n      <td>16</td>\n      <td>15</td>\n      <td>16</td>\n      <td>2023-03-22</td>\n      <td>4</td>\n    </tr>\n    <tr>\n      <th>4</th>\n      <td>1</td>\n      <td>2023-03-22 17:21:38</td>\n      <td>1</td>\n      <td>31</td>\n      <td>12</td>\n      <td>19</td>\n      <td>17</td>\n      <td>2023-03-22</td>\n      <td>5</td>\n    </tr>\n    <tr>\n      <th>...</th>\n      <td>...</td>\n      <td>...</td>\n      <td>...</td>\n      <td>...</td>\n      <td>...</td>\n      <td>...</td>\n      <td>...</td>\n      <td>...</td>\n      <td>...</td>\n    </tr>\n    <tr>\n      <th>364071</th>\n      <td>117</td>\n      <td>2023-04-11 08:35:41</td>\n      <td>1</td>\n      <td>40</td>\n      <td>2</td>\n      <td>38</td>\n      <td>08</td>\n      <td>2023-04-11</td>\n      <td>364072</td>\n    </tr>\n    <tr>\n      <th>364072</th>\n      <td>117</td>\n      <td>2023-04-11 08:41:48</td>\n      <td>1</td>\n      <td>40</td>\n      <td>3</td>\n      <td>37</td>\n      <td>08</td>\n      <td>2023-04-11</td>\n      <td>364073</td>\n    </tr>\n    <tr>\n      <th>364073</th>\n      <td>117</td>\n      <td>2023-04-11 08:45:46</td>\n      <td>1</td>\n      <td>40</td>\n      <td>3</td>\n      <td>37</td>\n      <td>08</td>\n      <td>2023-04-11</td>\n      <td>364074</td>\n    </tr>\n    <tr>\n      <th>364074</th>\n      <td>117</td>\n      <td>2023-04-11 08:51:12</td>\n      <td>1</td>\n      <td>40</td>\n      <td>5</td>\n      <td>35</td>\n      <td>08</td>\n      <td>2023-04-11</td>\n      <td>364075</td>\n    </tr>\n    <tr>\n      <th>364075</th>\n      <td>117</td>\n      <td>2023-04-11 08:57:50</td>\n      <td>1</td>\n      <td>40</td>\n      <td>6</td>\n      <td>34</td>\n      <td>08</td>\n      <td>2023-04-11</td>\n      <td>364076</td>\n    </tr>\n  </tbody>\n</table>\n<p>364076 rows × 9 columns</p>\n</div>"
     },
     "execution_count": 47,
     "metadata": {},
     "output_type": "execute_result"
    }
   ],
   "source": [
    "df_a['last_update'] = pd.to_datetime(df_a['last_update'])\n",
    "df_a['timehours_availability'] = df_a['last_update'].dt.strftime('%H')\n",
    "df_a['date'] = df_a['last_update'].dt.date\n",
    "df_a['bID'] = df_a.reset_index().index + 1 #ID number for model\n",
    "df_a"
   ]
  },
  {
   "cell_type": "code",
   "execution_count": 48,
   "id": "8f0fb614-2cfb-43d5-9a49-2ba1efd5e510",
   "metadata": {},
   "outputs": [
    {
     "data": {
      "text/plain": "           date                time        weather   temp  humidity   speed  \\\n0    2023-04-09 2023-04-21 18:38:45  moderate rain  12.61      8.75  200.00   \n1    2023-04-09 2023-04-21 18:55:18  broken clouds  12.40     81.00    8.75   \n2    2023-04-10 2023-04-21 16:20:02     light rain   9.23     72.00   12.86   \n3    2023-04-10 2023-04-21 16:25:01     light rain   9.16     72.00   12.86   \n4    2023-04-10 2023-04-21 16:30:02     light rain   9.23     72.00   12.86   \n..          ...                 ...            ...    ...       ...     ...   \n197  2023-04-11 2023-04-21 08:35:01  broken clouds   8.98     76.00    5.14   \n198  2023-04-11 2023-04-21 08:40:01  broken clouds   8.98     76.00    5.14   \n199  2023-04-11 2023-04-21 08:45:02  broken clouds   8.98     76.00    5.14   \n200  2023-04-11 2023-04-21 08:50:02  broken clouds   9.08     75.00    5.66   \n201  2023-04-11 2023-04-21 08:55:01  broken clouds   9.08     75.00    5.66   \n\n     degrees timehours_weather  wID  \n0         80                18    1  \n1        200                18    2  \n2        290                16    3  \n3        290                16    4  \n4        290                16    5  \n..       ...               ...  ...  \n197      210                08  198  \n198      210                08  199  \n199      210                08  200  \n200      200                08  201  \n201      200                08  202  \n\n[202 rows x 9 columns]",
      "text/html": "<div>\n<style scoped>\n    .dataframe tbody tr th:only-of-type {\n        vertical-align: middle;\n    }\n\n    .dataframe tbody tr th {\n        vertical-align: top;\n    }\n\n    .dataframe thead th {\n        text-align: right;\n    }\n</style>\n<table border=\"1\" class=\"dataframe\">\n  <thead>\n    <tr style=\"text-align: right;\">\n      <th></th>\n      <th>date</th>\n      <th>time</th>\n      <th>weather</th>\n      <th>temp</th>\n      <th>humidity</th>\n      <th>speed</th>\n      <th>degrees</th>\n      <th>timehours_weather</th>\n      <th>wID</th>\n    </tr>\n  </thead>\n  <tbody>\n    <tr>\n      <th>0</th>\n      <td>2023-04-09</td>\n      <td>2023-04-21 18:38:45</td>\n      <td>moderate rain</td>\n      <td>12.61</td>\n      <td>8.75</td>\n      <td>200.00</td>\n      <td>80</td>\n      <td>18</td>\n      <td>1</td>\n    </tr>\n    <tr>\n      <th>1</th>\n      <td>2023-04-09</td>\n      <td>2023-04-21 18:55:18</td>\n      <td>broken clouds</td>\n      <td>12.40</td>\n      <td>81.00</td>\n      <td>8.75</td>\n      <td>200</td>\n      <td>18</td>\n      <td>2</td>\n    </tr>\n    <tr>\n      <th>2</th>\n      <td>2023-04-10</td>\n      <td>2023-04-21 16:20:02</td>\n      <td>light rain</td>\n      <td>9.23</td>\n      <td>72.00</td>\n      <td>12.86</td>\n      <td>290</td>\n      <td>16</td>\n      <td>3</td>\n    </tr>\n    <tr>\n      <th>3</th>\n      <td>2023-04-10</td>\n      <td>2023-04-21 16:25:01</td>\n      <td>light rain</td>\n      <td>9.16</td>\n      <td>72.00</td>\n      <td>12.86</td>\n      <td>290</td>\n      <td>16</td>\n      <td>4</td>\n    </tr>\n    <tr>\n      <th>4</th>\n      <td>2023-04-10</td>\n      <td>2023-04-21 16:30:02</td>\n      <td>light rain</td>\n      <td>9.23</td>\n      <td>72.00</td>\n      <td>12.86</td>\n      <td>290</td>\n      <td>16</td>\n      <td>5</td>\n    </tr>\n    <tr>\n      <th>...</th>\n      <td>...</td>\n      <td>...</td>\n      <td>...</td>\n      <td>...</td>\n      <td>...</td>\n      <td>...</td>\n      <td>...</td>\n      <td>...</td>\n      <td>...</td>\n    </tr>\n    <tr>\n      <th>197</th>\n      <td>2023-04-11</td>\n      <td>2023-04-21 08:35:01</td>\n      <td>broken clouds</td>\n      <td>8.98</td>\n      <td>76.00</td>\n      <td>5.14</td>\n      <td>210</td>\n      <td>08</td>\n      <td>198</td>\n    </tr>\n    <tr>\n      <th>198</th>\n      <td>2023-04-11</td>\n      <td>2023-04-21 08:40:01</td>\n      <td>broken clouds</td>\n      <td>8.98</td>\n      <td>76.00</td>\n      <td>5.14</td>\n      <td>210</td>\n      <td>08</td>\n      <td>199</td>\n    </tr>\n    <tr>\n      <th>199</th>\n      <td>2023-04-11</td>\n      <td>2023-04-21 08:45:02</td>\n      <td>broken clouds</td>\n      <td>8.98</td>\n      <td>76.00</td>\n      <td>5.14</td>\n      <td>210</td>\n      <td>08</td>\n      <td>200</td>\n    </tr>\n    <tr>\n      <th>200</th>\n      <td>2023-04-11</td>\n      <td>2023-04-21 08:50:02</td>\n      <td>broken clouds</td>\n      <td>9.08</td>\n      <td>75.00</td>\n      <td>5.66</td>\n      <td>200</td>\n      <td>08</td>\n      <td>201</td>\n    </tr>\n    <tr>\n      <th>201</th>\n      <td>2023-04-11</td>\n      <td>2023-04-21 08:55:01</td>\n      <td>broken clouds</td>\n      <td>9.08</td>\n      <td>75.00</td>\n      <td>5.66</td>\n      <td>200</td>\n      <td>08</td>\n      <td>202</td>\n    </tr>\n  </tbody>\n</table>\n<p>202 rows × 9 columns</p>\n</div>"
     },
     "execution_count": 48,
     "metadata": {},
     "output_type": "execute_result"
    }
   ],
   "source": [
    "df_w['time'] = pd.to_datetime(df_w['time'])\n",
    "df_w['timehours_weather'] = df_w['time'].dt.strftime('%H')\n",
    "df_w['wID'] = df_w.reset_index().index + 1\n",
    "df_w"
   ]
  },
  {
   "cell_type": "code",
   "execution_count": 49,
   "id": "7aa816b4-8b69-4747-8a38-0b6a82a0bbfa",
   "metadata": {},
   "outputs": [
    {
     "data": {
      "text/plain": "Index(['NUMBER', 'last_update', 'open', 'bike_stands', 'available_bikes',\n       'available_bike_stands', 'timehours_availability', 'date', 'bID'],\n      dtype='object')"
     },
     "execution_count": 49,
     "metadata": {},
     "output_type": "execute_result"
    }
   ],
   "source": [
    "df_a.columns"
   ]
  },
  {
   "cell_type": "code",
   "execution_count": 50,
   "id": "6dba3b63-8fbd-466a-9aab-8edc9470d60d",
   "metadata": {},
   "outputs": [
    {
     "name": "stdout",
     "output_type": "stream",
     "text": [
      "date                 datetime64[ns]\n",
      "time                 datetime64[ns]\n",
      "weather                      object\n",
      "temp                        float64\n",
      "humidity                    float64\n",
      "speed                       float64\n",
      "degrees                       int64\n",
      "timehours_weather            object\n",
      "wID                           int64\n",
      "dtype: object\n",
      "NUMBER                             int64\n",
      "last_update               datetime64[ns]\n",
      "open                               int64\n",
      "bike_stands                        int64\n",
      "available_bikes                    int64\n",
      "available_bike_stands              int64\n",
      "timehours_availability            object\n",
      "date                      datetime64[ns]\n",
      "bID                                int64\n",
      "dtype: object\n"
     ]
    }
   ],
   "source": [
    "df_w['date'] = pd.to_datetime(df_w['date'])\n",
    "df_a['date'] = pd.to_datetime(df_a['date'])\n",
    "print(df_w.dtypes)\n",
    "print(df_a.dtypes)"
   ]
  },
  {
   "cell_type": "code",
   "execution_count": 51,
   "id": "08d6a99b-c85f-43ae-a24c-345c1e9df6b7",
   "metadata": {},
   "outputs": [],
   "source": [
    "df = pd.merge(df_a, df_w, on='date')"
   ]
  },
  {
   "cell_type": "code",
   "execution_count": 52,
   "id": "f7fe40a5-db13-4a01-b149-841856bfd1e4",
   "metadata": {},
   "outputs": [
    {
     "data": {
      "text/plain": "   NUMBER         last_update  open  bike_stands  available_bikes  \\\n0       1 2023-04-09 00:07:17     1           31                6   \n1       1 2023-04-09 00:07:17     1           31                6   \n2       1 2023-04-09 00:17:21     1           31                6   \n3       1 2023-04-09 00:17:21     1           31                6   \n4       1 2023-04-09 00:27:25     1           31                6   \n\n   available_bike_stands timehours_availability       date   bID  \\\n0                     25                     00 2023-04-09  2919   \n1                     25                     00 2023-04-09  2919   \n2                     25                     00 2023-04-09  2920   \n3                     25                     00 2023-04-09  2920   \n4                     25                     00 2023-04-09  2921   \n\n                 time  ...   speed  degrees  timehours_weather  wID  \\\n0 2023-04-21 18:38:45  ...  200.00       80                 18    1   \n1 2023-04-21 18:55:18  ...    8.75      200                 18    2   \n2 2023-04-21 18:38:45  ...  200.00       80                 18    1   \n3 2023-04-21 18:55:18  ...    8.75      200                 18    2   \n4 2023-04-21 18:38:45  ...  200.00       80                 18    1   \n\n  weather_broken clouds  weather_few clouds  weather_heavy intensity rain  \\\n0                     0                   0                             0   \n1                     1                   0                             0   \n2                     0                   0                             0   \n3                     1                   0                             0   \n4                     0                   0                             0   \n\n   weather_light rain  weather_moderate rain  weather_scattered clouds  \n0                   0                      1                         0  \n1                   0                      0                         0  \n2                   0                      1                         0  \n3                   0                      0                         0  \n4                   0                      1                         0  \n\n[5 rows x 22 columns]",
      "text/html": "<div>\n<style scoped>\n    .dataframe tbody tr th:only-of-type {\n        vertical-align: middle;\n    }\n\n    .dataframe tbody tr th {\n        vertical-align: top;\n    }\n\n    .dataframe thead th {\n        text-align: right;\n    }\n</style>\n<table border=\"1\" class=\"dataframe\">\n  <thead>\n    <tr style=\"text-align: right;\">\n      <th></th>\n      <th>NUMBER</th>\n      <th>last_update</th>\n      <th>open</th>\n      <th>bike_stands</th>\n      <th>available_bikes</th>\n      <th>available_bike_stands</th>\n      <th>timehours_availability</th>\n      <th>date</th>\n      <th>bID</th>\n      <th>time</th>\n      <th>...</th>\n      <th>speed</th>\n      <th>degrees</th>\n      <th>timehours_weather</th>\n      <th>wID</th>\n      <th>weather_broken clouds</th>\n      <th>weather_few clouds</th>\n      <th>weather_heavy intensity rain</th>\n      <th>weather_light rain</th>\n      <th>weather_moderate rain</th>\n      <th>weather_scattered clouds</th>\n    </tr>\n  </thead>\n  <tbody>\n    <tr>\n      <th>0</th>\n      <td>1</td>\n      <td>2023-04-09 00:07:17</td>\n      <td>1</td>\n      <td>31</td>\n      <td>6</td>\n      <td>25</td>\n      <td>00</td>\n      <td>2023-04-09</td>\n      <td>2919</td>\n      <td>2023-04-21 18:38:45</td>\n      <td>...</td>\n      <td>200.00</td>\n      <td>80</td>\n      <td>18</td>\n      <td>1</td>\n      <td>0</td>\n      <td>0</td>\n      <td>0</td>\n      <td>0</td>\n      <td>1</td>\n      <td>0</td>\n    </tr>\n    <tr>\n      <th>1</th>\n      <td>1</td>\n      <td>2023-04-09 00:07:17</td>\n      <td>1</td>\n      <td>31</td>\n      <td>6</td>\n      <td>25</td>\n      <td>00</td>\n      <td>2023-04-09</td>\n      <td>2919</td>\n      <td>2023-04-21 18:55:18</td>\n      <td>...</td>\n      <td>8.75</td>\n      <td>200</td>\n      <td>18</td>\n      <td>2</td>\n      <td>1</td>\n      <td>0</td>\n      <td>0</td>\n      <td>0</td>\n      <td>0</td>\n      <td>0</td>\n    </tr>\n    <tr>\n      <th>2</th>\n      <td>1</td>\n      <td>2023-04-09 00:17:21</td>\n      <td>1</td>\n      <td>31</td>\n      <td>6</td>\n      <td>25</td>\n      <td>00</td>\n      <td>2023-04-09</td>\n      <td>2920</td>\n      <td>2023-04-21 18:38:45</td>\n      <td>...</td>\n      <td>200.00</td>\n      <td>80</td>\n      <td>18</td>\n      <td>1</td>\n      <td>0</td>\n      <td>0</td>\n      <td>0</td>\n      <td>0</td>\n      <td>1</td>\n      <td>0</td>\n    </tr>\n    <tr>\n      <th>3</th>\n      <td>1</td>\n      <td>2023-04-09 00:17:21</td>\n      <td>1</td>\n      <td>31</td>\n      <td>6</td>\n      <td>25</td>\n      <td>00</td>\n      <td>2023-04-09</td>\n      <td>2920</td>\n      <td>2023-04-21 18:55:18</td>\n      <td>...</td>\n      <td>8.75</td>\n      <td>200</td>\n      <td>18</td>\n      <td>2</td>\n      <td>1</td>\n      <td>0</td>\n      <td>0</td>\n      <td>0</td>\n      <td>0</td>\n      <td>0</td>\n    </tr>\n    <tr>\n      <th>4</th>\n      <td>1</td>\n      <td>2023-04-09 00:27:25</td>\n      <td>1</td>\n      <td>31</td>\n      <td>6</td>\n      <td>25</td>\n      <td>00</td>\n      <td>2023-04-09</td>\n      <td>2921</td>\n      <td>2023-04-21 18:38:45</td>\n      <td>...</td>\n      <td>200.00</td>\n      <td>80</td>\n      <td>18</td>\n      <td>1</td>\n      <td>0</td>\n      <td>0</td>\n      <td>0</td>\n      <td>0</td>\n      <td>1</td>\n      <td>0</td>\n    </tr>\n  </tbody>\n</table>\n<p>5 rows × 22 columns</p>\n</div>"
     },
     "execution_count": 52,
     "metadata": {},
     "output_type": "execute_result"
    }
   ],
   "source": [
    "# One-hot encode the 'description' column\n",
    "df = pd.get_dummies(df, columns= ['weather'])\n",
    "df.head()"
   ]
  },
  {
   "cell_type": "code",
   "execution_count": 53,
   "id": "5d5b0d09-aa5d-4dcf-998c-e80ba3d02dfc",
   "metadata": {},
   "outputs": [
    {
     "data": {
      "text/plain": "Index(['NUMBER', 'open', 'bike_stands', 'available_bikes',\n       'available_bike_stands', 'timehours_availability', 'date', 'bID',\n       'time', 'temp', 'humidity', 'speed', 'degrees', 'timehours_weather',\n       'wID', 'weather_broken clouds', 'weather_few clouds',\n       'weather_heavy intensity rain', 'weather_light rain',\n       'weather_moderate rain', 'weather_scattered clouds'],\n      dtype='object')"
     },
     "execution_count": 53,
     "metadata": {},
     "output_type": "execute_result"
    }
   ],
   "source": [
    "df = df.drop(columns=['last_update'])\n",
    "df.columns"
   ]
  },
  {
   "cell_type": "code",
   "execution_count": 54,
   "id": "4fde1841-2e5d-4049-8e0e-4f6d1cf0bfc8",
   "metadata": {},
   "outputs": [
    {
     "data": {
      "text/plain": "   NUMBER timehours_weather  available_bikes  available_bike_stands   temp  \\\n0       1                18                6                     25  12.61   \n1       1                18                6                     25  12.40   \n2       1                18                6                     25  12.61   \n3       1                18                6                     25  12.40   \n4       1                18                6                     25  12.61   \n\n   humidity   speed  degrees  \n0      8.75  200.00       80  \n1     81.00    8.75      200  \n2      8.75  200.00       80  \n3     81.00    8.75      200  \n4      8.75  200.00       80  ",
      "text/html": "<div>\n<style scoped>\n    .dataframe tbody tr th:only-of-type {\n        vertical-align: middle;\n    }\n\n    .dataframe tbody tr th {\n        vertical-align: top;\n    }\n\n    .dataframe thead th {\n        text-align: right;\n    }\n</style>\n<table border=\"1\" class=\"dataframe\">\n  <thead>\n    <tr style=\"text-align: right;\">\n      <th></th>\n      <th>NUMBER</th>\n      <th>timehours_weather</th>\n      <th>available_bikes</th>\n      <th>available_bike_stands</th>\n      <th>temp</th>\n      <th>humidity</th>\n      <th>speed</th>\n      <th>degrees</th>\n    </tr>\n  </thead>\n  <tbody>\n    <tr>\n      <th>0</th>\n      <td>1</td>\n      <td>18</td>\n      <td>6</td>\n      <td>25</td>\n      <td>12.61</td>\n      <td>8.75</td>\n      <td>200.00</td>\n      <td>80</td>\n    </tr>\n    <tr>\n      <th>1</th>\n      <td>1</td>\n      <td>18</td>\n      <td>6</td>\n      <td>25</td>\n      <td>12.40</td>\n      <td>81.00</td>\n      <td>8.75</td>\n      <td>200</td>\n    </tr>\n    <tr>\n      <th>2</th>\n      <td>1</td>\n      <td>18</td>\n      <td>6</td>\n      <td>25</td>\n      <td>12.61</td>\n      <td>8.75</td>\n      <td>200.00</td>\n      <td>80</td>\n    </tr>\n    <tr>\n      <th>3</th>\n      <td>1</td>\n      <td>18</td>\n      <td>6</td>\n      <td>25</td>\n      <td>12.40</td>\n      <td>81.00</td>\n      <td>8.75</td>\n      <td>200</td>\n    </tr>\n    <tr>\n      <th>4</th>\n      <td>1</td>\n      <td>18</td>\n      <td>6</td>\n      <td>25</td>\n      <td>12.61</td>\n      <td>8.75</td>\n      <td>200.00</td>\n      <td>80</td>\n    </tr>\n  </tbody>\n</table>\n</div>"
     },
     "execution_count": 54,
     "metadata": {},
     "output_type": "execute_result"
    }
   ],
   "source": [
    "df.columns\n",
    "features = df[['NUMBER', 'timehours_weather', 'available_bikes', 'available_bike_stands', 'temp', 'humidity', 'speed', 'degrees', 'wID']]\n",
    "features.head(5)"
   ]
  },
  {
   "cell_type": "code",
   "execution_count": 55,
   "id": "d81a15a4-9e0d-4ba2-955a-2660e51729f7",
   "metadata": {},
   "outputs": [],
   "source": [
    "# example of making a single class prediction\n",
    "# X['timehours_weather'] = X['timehours_weather'].astype(int)\n",
    "# X['date'] = X['date'].astype(int)\n",
    "# X['time'] = X['time'].astype(int)\n",
    "# X['time'] = X['time'].astype(int)\n",
    "\n",
    "# X.dtypes"
   ]
  },
  {
   "cell_type": "code",
   "execution_count": 56,
   "id": "32e6a98c-8f93-418d-b74c-8840fa0a4196",
   "metadata": {},
   "outputs": [
    {
     "name": "stdout",
     "output_type": "stream",
     "text": [
      "Mean Squared Error for station 1: 23.604533822909225\n",
      "Mean Squared Error for station 2: 3.9472741631578465\n",
      "Mean Squared Error for station 3: 12.636232427302048\n",
      "Mean Squared Error for station 4: 11.425654664934969\n",
      "Mean Squared Error for station 5: 14.820484101319444\n",
      "Mean Squared Error for station 6: 11.968575614353712\n",
      "Mean Squared Error for station 7: 1.3395343281368584\n",
      "Mean Squared Error for station 8: 4.437869002991877\n",
      "Mean Squared Error for station 9: 15.928593011270145\n",
      "Mean Squared Error for station 10: 7.694118814278234\n",
      "Mean Squared Error for station 11: 15.092669741051452\n",
      "Mean Squared Error for station 12: 1.1243641177123296\n",
      "Mean Squared Error for station 13: 7.478036058970661\n",
      "Mean Squared Error for station 14: 25.527666388036828\n",
      "Mean Squared Error for station 15: 2.961056957531671\n",
      "Mean Squared Error for station 16: 7.294755561823717\n",
      "Mean Squared Error for station 17: 10.164185998314785\n",
      "Mean Squared Error for station 18: 11.379807266601755\n",
      "Mean Squared Error for station 19: 24.47962142853637\n",
      "Mean Squared Error for station 20: 12.650053579915685\n",
      "Mean Squared Error for station 21: 28.076974818809635\n",
      "Mean Squared Error for station 22: 12.721917180554522\n",
      "Mean Squared Error for station 23: 22.10732874388236\n",
      "Mean Squared Error for station 24: 4.358810934219077\n",
      "Mean Squared Error for station 25: 14.545052327201837\n",
      "Mean Squared Error for station 26: 7.949393229154918\n",
      "Mean Squared Error for station 27: 16.606516956669267\n",
      "Mean Squared Error for station 28: 28.255620425517115\n",
      "Mean Squared Error for station 29: 33.63773916831774\n",
      "Mean Squared Error for station 30: 5.836446466549612\n",
      "Mean Squared Error for station 31: 20.110466420844098\n",
      "Mean Squared Error for station 32: 15.004162072155372\n",
      "Mean Squared Error for station 33: 24.69268776334656\n",
      "Mean Squared Error for station 34: 47.177460418353945\n",
      "Mean Squared Error for station 35: 25.8766583558591\n",
      "Mean Squared Error for station 36: 8.340379679393296\n",
      "Mean Squared Error for station 37: 2.441575828635433\n",
      "Mean Squared Error for station 38: 6.888919122442784\n",
      "Mean Squared Error for station 39: 1.9940914803660583\n",
      "Mean Squared Error for station 40: 5.994928010346265\n",
      "Mean Squared Error for station 41: 1.159120284467388\n",
      "Mean Squared Error for station 42: 11.714427940330665\n",
      "Mean Squared Error for station 43: 27.75609482732255\n",
      "Mean Squared Error for station 44: 12.88708294945285\n",
      "Mean Squared Error for station 45: 12.26728007015243\n",
      "Mean Squared Error for station 47: 13.943651101406417\n",
      "Mean Squared Error for station 48: 4.958859559950316\n",
      "Mean Squared Error for station 49: 12.89181395014155\n",
      "Mean Squared Error for station 50: 28.634282202214568\n",
      "Mean Squared Error for station 51: 8.326400100470511\n",
      "Mean Squared Error for station 52: 25.637116701915787\n",
      "Mean Squared Error for station 53: 9.505360369092656\n",
      "Mean Squared Error for station 54: 12.04729489324539\n",
      "Mean Squared Error for station 55: 5.328454632191352\n",
      "Mean Squared Error for station 56: 33.49891515553199\n",
      "Mean Squared Error for station 57: 4.318843382163004\n",
      "Mean Squared Error for station 58: 37.14084606924625\n",
      "Mean Squared Error for station 59: 9.246865415700597\n",
      "Mean Squared Error for station 60: 22.98405593240891\n",
      "Mean Squared Error for station 61: 1.1270862152919143\n",
      "Mean Squared Error for station 62: 1.2163647805609243\n",
      "Mean Squared Error for station 63: 10.588585230988313\n",
      "Mean Squared Error for station 64: 8.137441297201475\n",
      "Mean Squared Error for station 65: 74.84959254882956\n",
      "Mean Squared Error for station 66: 39.72733620184671\n",
      "Mean Squared Error for station 67: 6.330061213985372\n",
      "Mean Squared Error for station 68: 38.22715447319533\n",
      "Mean Squared Error for station 69: 57.73090289197121\n",
      "Mean Squared Error for station 71: 8.225232198495332\n",
      "Mean Squared Error for station 72: 13.69956341836777\n",
      "Mean Squared Error for station 73: 3.3358039471751004\n",
      "Mean Squared Error for station 74: 9.417419600710176\n",
      "Mean Squared Error for station 75: 9.655248565728701\n",
      "Mean Squared Error for station 76: 14.00227777118732\n",
      "Mean Squared Error for station 77: 38.43546151245161\n",
      "Mean Squared Error for station 78: 4.382797674978103\n",
      "Mean Squared Error for station 79: 1.511607824361484\n",
      "Mean Squared Error for station 80: 2.3039582083744925\n",
      "Mean Squared Error for station 82: 2.7018804257548377\n",
      "Mean Squared Error for station 83: 16.92088374587891\n",
      "Mean Squared Error for station 84: 10.4977057446295\n",
      "Mean Squared Error for station 85: 14.180228301642025\n",
      "Mean Squared Error for station 86: 37.62659605315089\n",
      "Mean Squared Error for station 87: 7.56352496469391\n",
      "Mean Squared Error for station 88: 13.104410137963907\n",
      "Mean Squared Error for station 89: 2.6865925274003377\n",
      "Mean Squared Error for station 90: 41.163679764812414\n",
      "Mean Squared Error for station 91: 10.165194818479407\n",
      "Mean Squared Error for station 92: 27.6297060634054\n",
      "Mean Squared Error for station 93: 36.32781610767073\n",
      "Mean Squared Error for station 94: 0.7302264829264973\n",
      "Mean Squared Error for station 95: 14.058061751715382\n",
      "Mean Squared Error for station 96: 2.3196116879015705\n",
      "Mean Squared Error for station 97: 8.621645410794365\n",
      "Mean Squared Error for station 98: 16.143915588951714\n",
      "Mean Squared Error for station 99: 21.41985382177625\n",
      "Mean Squared Error for station 100: 14.47010113587503\n",
      "Mean Squared Error for station 101: 8.968513180567628\n",
      "Mean Squared Error for station 102: 35.544504101674036\n",
      "Mean Squared Error for station 103: 2.851483571022647\n",
      "Mean Squared Error for station 104: 5.726688572382692\n",
      "Mean Squared Error for station 105: 4.477633672442485\n",
      "Mean Squared Error for station 106: 34.21281370555915\n",
      "Mean Squared Error for station 107: 19.629411597641564\n",
      "Mean Squared Error for station 108: 24.16516739241883\n",
      "Mean Squared Error for station 109: 2.640951433013427\n",
      "Mean Squared Error for station 110: 42.40553071324182\n",
      "Mean Squared Error for station 111: 13.454636575936952\n",
      "Mean Squared Error for station 112: 32.517093102474234\n",
      "Mean Squared Error for station 113: 0.6022377651111089\n",
      "Mean Squared Error for station 114: 60.81694912782427\n",
      "Mean Squared Error for station 115: 31.8961275126059\n",
      "Mean Squared Error for station 116: 0.8167045859198987\n",
      "Mean Squared Error for station 117: 0.629965853242008\n"
     ]
    }
   ],
   "source": [
    "stationnumbers = list(features['NUMBER'].unique())\n",
    "stationnumbers.sort()\n",
    "\n",
    "for station_id in stationnumbers:\n",
    "    station_data = features[features['NUMBER'] == station_id]\n",
    "    y = station_data[['available_bikes', 'available_bike_stands']]\n",
    "    X = station_data.drop(columns=['available_bikes', 'available_bike_stands'])\n",
    "    X_train, X_test, y_train, y_test = train_test_split(X, y, test_size=0.2, random_state=42)\n",
    "\n",
    "    # fit final model, train a machine learning model\n",
    "    model = LinearRegression()\n",
    "    model.fit(X_train, y_train)\n",
    "\n",
    "    # Serialize the trained model into a file called model.pkl\n",
    "    with open(f'model_{station_id}.pkl', 'wb') as handle:\n",
    "        pickle.dump(model, handle, pickle.HIGHEST_PROTOCOL)\n",
    "\n",
    "    # Deserialize the model.pkl file into an object called model\n",
    "    with open(f'model_{station_id}.pkl', 'rb') as handle:\n",
    "        model = pickle.load(handle)\n",
    "\n",
    "    # Evaluate the model\n",
    "    y_pred = model.predict(X_test)\n",
    "    mse = mean_squared_error(y_test, y_pred)\n",
    "    # print(f\"Mean Squared Error for station {station_id}:\", mse)"
   ]
  },
  {
   "cell_type": "code",
   "execution_count": 57,
   "outputs": [
    {
     "data": {
      "text/plain": "         NUMBER timehours_weather  temp  humidity  speed  degrees\n1735284     117                17  7.82      81.0  10.29      270",
      "text/html": "<div>\n<style scoped>\n    .dataframe tbody tr th:only-of-type {\n        vertical-align: middle;\n    }\n\n    .dataframe tbody tr th {\n        vertical-align: top;\n    }\n\n    .dataframe thead th {\n        text-align: right;\n    }\n</style>\n<table border=\"1\" class=\"dataframe\">\n  <thead>\n    <tr style=\"text-align: right;\">\n      <th></th>\n      <th>NUMBER</th>\n      <th>timehours_weather</th>\n      <th>temp</th>\n      <th>humidity</th>\n      <th>speed</th>\n      <th>degrees</th>\n    </tr>\n  </thead>\n  <tbody>\n    <tr>\n      <th>1735284</th>\n      <td>117</td>\n      <td>17</td>\n      <td>7.82</td>\n      <td>81.0</td>\n      <td>10.29</td>\n      <td>270</td>\n    </tr>\n  </tbody>\n</table>\n</div>"
     },
     "execution_count": 57,
     "metadata": {},
     "output_type": "execute_result"
    }
   ],
   "source": [
    "# one row of data-frame returns one row of prediction\n",
    "X_test_one_row = X_test.head(1)\n",
    "X_test_one_row # 1-row dataframe"
   ],
   "metadata": {
    "collapsed": false
   }
  },
  {
   "cell_type": "code",
   "execution_count": 58,
   "outputs": [
    {
     "data": {
      "text/plain": "array([[ 0., 40.]])"
     },
     "execution_count": 58,
     "metadata": {},
     "output_type": "execute_result"
    }
   ],
   "source": [
    "y_pred_from_one_row = model.predict(X_test_one_row)\n",
    "y_pred_from_one_row"
   ],
   "metadata": {
    "collapsed": false
   }
  },
  {
   "cell_type": "code",
   "execution_count": 58,
   "outputs": [],
   "source": [],
   "metadata": {
    "collapsed": false
   }
  }
 ],
 "metadata": {
  "kernelspec": {
   "display_name": "Python 3 (ipykernel)",
   "language": "python",
   "name": "python3"
  },
  "language_info": {
   "codemirror_mode": {
    "name": "ipython",
    "version": 3
   },
   "file_extension": ".py",
   "mimetype": "text/x-python",
   "name": "python",
   "nbconvert_exporter": "python",
   "pygments_lexer": "ipython3",
   "version": "3.10.7"
  }
 },
 "nbformat": 4,
 "nbformat_minor": 5
}
